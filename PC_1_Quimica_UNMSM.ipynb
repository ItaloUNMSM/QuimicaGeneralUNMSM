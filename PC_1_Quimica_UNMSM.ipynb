{
  "nbformat": 4,
  "nbformat_minor": 0,
  "metadata": {
    "colab": {
      "provenance": [],
      "include_colab_link": true
    },
    "kernelspec": {
      "name": "python3",
      "display_name": "Python 3"
    },
    "language_info": {
      "name": "python"
    },
    "widgets": {
      "application/vnd.jupyter.widget-state+json": {
        "d4691835f4474884829213796343340f": {
          "model_module": "faerun-notebook",
          "model_name": "SmilesDrawerModel",
          "model_module_version": "^0.1.5",
          "state": {
            "_dom_classes": [],
            "_model_module": "faerun-notebook",
            "_model_module_version": "^0.1.5",
            "_model_name": "SmilesDrawerModel",
            "_view_count": null,
            "_view_module": "faerun-notebook",
            "_view_module_version": "^0.1.5",
            "_view_name": "SmilesDrawerView",
            "background": "#1e1e1e",
            "border": true,
            "layout": "IPY_MODEL_35b7ce94b6e84d4c985918e50984dcd7",
            "options": {
              "scale": 1.25
            },
            "output": "svg",
            "theme": "dark",
            "value": [
              [
                "Rxn",
                "C(C1C(C(C(C(O1)O)O)O)O)O.O=O>>C(=O)=O.O"
              ]
            ]
          }
        },
        "35b7ce94b6e84d4c985918e50984dcd7": {
          "model_module": "@jupyter-widgets/base",
          "model_name": "LayoutModel",
          "model_module_version": "1.2.0",
          "state": {
            "_model_module": "@jupyter-widgets/base",
            "_model_module_version": "1.2.0",
            "_model_name": "LayoutModel",
            "_view_count": null,
            "_view_module": "@jupyter-widgets/base",
            "_view_module_version": "1.2.0",
            "_view_name": "LayoutView",
            "align_content": null,
            "align_items": null,
            "align_self": null,
            "border": null,
            "bottom": null,
            "display": null,
            "flex": null,
            "flex_flow": null,
            "grid_area": null,
            "grid_auto_columns": null,
            "grid_auto_flow": null,
            "grid_auto_rows": null,
            "grid_column": null,
            "grid_gap": null,
            "grid_row": null,
            "grid_template_areas": null,
            "grid_template_columns": null,
            "grid_template_rows": null,
            "height": null,
            "justify_content": null,
            "justify_items": null,
            "left": null,
            "margin": null,
            "max_height": null,
            "max_width": null,
            "min_height": null,
            "min_width": null,
            "object_fit": null,
            "object_position": null,
            "order": null,
            "overflow": null,
            "overflow_x": null,
            "overflow_y": null,
            "padding": null,
            "right": null,
            "top": null,
            "visibility": null,
            "width": null
          }
        }
      }
    }
  },
  "cells": [
    {
      "cell_type": "markdown",
      "metadata": {
        "id": "view-in-github",
        "colab_type": "text"
      },
      "source": [
        "<a href=\"https://colab.research.google.com/github/ItaloUNMSM/QuimicaGeneralUNMSM/blob/main/PC_1_Quimica_UNMSM.ipynb\" target=\"_parent\"><img src=\"https://colab.research.google.com/assets/colab-badge.svg\" alt=\"Open In Colab\"/></a>"
      ]
    },
    {
      "cell_type": "markdown",
      "source": [
        "$$\\Large \\textit{UNMSM | Química}$$\n",
        "$$\\large \\textbf{PC Nº1 | Materia y clasificación}$$\n",
        "\n",
        "_Profesor: Jesus Alvarado Huayhuaz_"
      ],
      "metadata": {
        "id": "sDJAjbaQOj4x"
      }
    },
    {
      "cell_type": "markdown",
      "source": [
        "Todas las indicaciones para la presentación de la práctica son explicadas en clase y brindadas en el material de enunciado de preguntas en formato PDF."
      ],
      "metadata": {
        "id": "_DsTzWLoP7Fy"
      }
    },
    {
      "cell_type": "markdown",
      "source": [
        "## Pregunta 1: Sobre el ABC de python (4 puntos)"
      ],
      "metadata": {
        "id": "obD7c2igOD6t"
      }
    },
    {
      "cell_type": "markdown",
      "source": [
        "Durante la semana de revisión del material \"ABC de python\", reflexiona sobre qué conceptos aprendiste con claridad y cuáles consideras los más desafiantes. A continuación resuelve los siguiente ejercicios, puedes ayudarte del material en http://bit.ly/3YKICSZ."
      ],
      "metadata": {
        "id": "emt93S7dL7QH"
      }
    },
    {
      "cell_type": "code",
      "source": [
        "# Imprime la versión de python que usas y las palabras reservadas de python para esa versión."
      ],
      "metadata": {
        "id": "6mJvqMN0LTU8"
      },
      "execution_count": null,
      "outputs": []
    },
    {
      "cell_type": "code",
      "source": [
        "print (\"La versión de python es:\")\n",
        "!python --version\n",
        "print (\"\")\n",
        "print (\"Las palabras reservadas son:\")\n",
        "help(\"keywords\")"
      ],
      "metadata": {
        "id": "D6z7JgrUkt0R",
        "outputId": "10964b11-d6f0-4c8b-fbf5-e8179dafa909",
        "colab": {
          "base_uri": "https://localhost:8080/"
        }
      },
      "execution_count": null,
      "outputs": [
        {
          "output_type": "stream",
          "name": "stdout",
          "text": [
            "La versión de python es:\n",
            "Python 3.10.12\n",
            "\n",
            "Las palabras reservadas son:\n",
            "\n",
            "Here is a list of the Python keywords.  Enter any keyword to get more help.\n",
            "\n",
            "False               class               from                or\n",
            "None                continue            global              pass\n",
            "True                def                 if                  raise\n",
            "and                 del                 import              return\n",
            "as                  elif                in                  try\n",
            "assert              else                is                  while\n",
            "async               except              lambda              with\n",
            "await               finally             nonlocal            yield\n",
            "break               for                 not                 \n",
            "\n"
          ]
        }
      ]
    },
    {
      "cell_type": "code",
      "source": [
        "# Crea una matriz de 3x3 e imprime la suma de los elementos en su diagonal (traza)."
      ],
      "metadata": {
        "id": "MxDzGypdLTXh"
      },
      "execution_count": null,
      "outputs": []
    },
    {
      "cell_type": "code",
      "source": [
        "matriz = [[1,2,3],\n",
        "          [4,5,6],\n",
        "          [7,8,9]]\n",
        "suma_primera_diagonal = sum(matriz[i][i] for i in range(3))\n",
        "suma_segunda_diagonal = sum(matriz[i][2-i] for i in range(3) )\n",
        "\n",
        "print (\"matriz:\")\n",
        "for fila in matriz:\n",
        "  print (fila)\n",
        "\n",
        "print (\"La suma de la primera diagonal es\", suma_primera_diagonal)\n",
        "print (\"La suma de la segunda diagonal es\", suma_segunda_diagonal)"
      ],
      "metadata": {
        "id": "UxFPTt10nilR",
        "outputId": "ab0ab30c-fd14-431e-ccab-07e52ebc6b40",
        "colab": {
          "base_uri": "https://localhost:8080/"
        }
      },
      "execution_count": null,
      "outputs": [
        {
          "output_type": "stream",
          "name": "stdout",
          "text": [
            "matriz:\n",
            "[1, 2, 3]\n",
            "[4, 5, 6]\n",
            "[7, 8, 9]\n",
            "La suma de la primera diagonal es 15\n",
            "La suma de la segunda diagonal es 15\n"
          ]
        }
      ]
    },
    {
      "cell_type": "code",
      "source": [
        "# Guarda como variable la masa atómica de los elementos C, H y O, e imprime la masa molecular del etanol."
      ],
      "metadata": {
        "id": "MyhNX7JmLTSe"
      },
      "execution_count": null,
      "outputs": []
    },
    {
      "cell_type": "code",
      "source": [
        "C = 12.011\n",
        "H = 1.00784\n",
        "O = 15.999\n",
        "\n",
        "etanol = 2*C+6*H+O\n",
        "\n",
        "print (\"La masa molecular del etanol es\", etanol)"
      ],
      "metadata": {
        "id": "2UgsixyLvGjM",
        "outputId": "acfaa208-17da-4e45-9c3f-bc8573f28458",
        "colab": {
          "base_uri": "https://localhost:8080/"
        }
      },
      "execution_count": null,
      "outputs": [
        {
          "output_type": "stream",
          "name": "stdout",
          "text": [
            "La masa molecular del etanol es 46.06804\n"
          ]
        }
      ]
    },
    {
      "cell_type": "code",
      "source": [
        "# Busca la temperatura de fusión en Celsius de 5 metales y guárdalos en una lista. Imprime las temperaturas en Kelvin"
      ],
      "metadata": {
        "id": "NCOnJ0FwgLLc"
      },
      "execution_count": null,
      "outputs": []
    },
    {
      "cell_type": "code",
      "source": [
        "temps_celsius = {\"Plata\":962,\n",
        "                \"Oro\":1064,\n",
        "                \"Estaño\":232,\n",
        "                \"Hierro\":1538,\n",
        "                \"Zinc\":420,}\n",
        "temps_kelvin = []\n",
        "for metal, temp_celsius in temps_celsius.items():\n",
        "  temp_kelvin = temp_celsius + 273.15\n",
        "  temps_kelvin.append((metal, temp_kelvin))\n",
        "\n",
        "for metal, temp_kelvin in temps_kelvin:\n",
        "  print (f'{metal}:{temp_kelvin} K')"
      ],
      "metadata": {
        "id": "gbJVr8nevMYY",
        "outputId": "570b4918-b06c-4ddb-a52f-f7a3d8c1359f",
        "colab": {
          "base_uri": "https://localhost:8080/"
        }
      },
      "execution_count": null,
      "outputs": [
        {
          "output_type": "stream",
          "name": "stdout",
          "text": [
            "Plata:1235.15 K\n",
            "Oro:1337.15 K\n",
            "Estaño:505.15 K\n",
            "Hierro:1811.15 K\n",
            "Zinc:693.15 K\n"
          ]
        }
      ]
    },
    {
      "cell_type": "markdown",
      "source": [
        "## Pregunta 2: Operaciones (4 puntos)"
      ],
      "metadata": {
        "id": "epzOadagLfPi"
      }
    },
    {
      "cell_type": "markdown",
      "source": [
        "Escribe un programa que lea repetidamente elementos químicos en español hasta que el usuario introduzca “fin”. Una vez se haya introducido “fin”, muestra por pantalla (o sea imprime) el total de elementos ingresados. Si el usuario introduce cualquier otra cosa que no sea un elemento químico, detecta su fallo usando try y except, muestra un mensaje de error y pasa al siguiente elemento."
      ],
      "metadata": {
        "id": "MbAEOGPsjOWZ"
      }
    },
    {
      "cell_type": "code",
      "source": [
        "elementos_quimicos = [\n",
        "    \"Hidrógeno\", \"Helio\", \"Litio\", \"Berilio\", \"Boro\", \"Carbono\", \"Nitrógeno\", \"Oxígeno\", \"Flúor\", \"Neón\",\n",
        "    \"Sodio\", \"Magnesio\", \"Aluminio\", \"Silicio\", \"Fósforo\", \"Azufre\", \"Cloro\", \"Argón\", \"Potasio\", \"Calcio\",\n",
        "    \"Escandio\", \"Titanio\", \"Vanadio\", \"Cromo\", \"Manganeso\", \"Hierro\", \"Cobalto\", \"Níquel\", \"Cobre\", \"Zinc\",\n",
        "    \"Galio\", \"Germanio\", \"Arsénico\", \"Selenio\", \"Bromo\", \"Kriptón\", \"Rubidio\", \"Estroncio\", \"Itrio\",\n",
        "    \"Circonio\", \"Niobio\", \"Molibdeno\", \"Tecnecio\", \"Rutenio\", \"Rodio\", \"Paladio\", \"Plata\", \"Cadmio\", \"Indio\",\n",
        "    \"Estaño\", \"Antimonio\", \"Telurio\", \"Yodo\", \"Xenón\", \"Cesio\", \"Bario\", \"Lantano\", \"Cerio\", \"Praseodimio\",\n",
        "    \"Neodimio\", \"Prometio\", \"Samario\", \"Europio\", \"Gadolinio\", \"Terbio\", \"Disprosio\", \"Holmio\", \"Erbio\", \"Tulio\",\n",
        "    \"Iterbio\", \"Lutecio\", \"Hafnio\", \"Tantalio\", \"Tungsteno\", \"Renio\", \"Osmio\", \"Iridio\", \"Platino\", \"Oro\",\n",
        "    \"Mercurio\", \"Talio\", \"Plomo\", \"Bismuto\", \"Polonio\", \"Ástato\", \"Radón\", \"Francio\", \"Radio\", \"Actinio\",\n",
        "    \"Torio\", \"Protactinio\", \"Uranio\", \"Neptunio\", \"Plutonio\", \"Amaricio\", \"Curio\", \"Berkelio\", \"Californio\",\n",
        "    \"Einstenio\", \"Fermio\", \"Mendelevio\", \"Nobelio\", \"Laurencio\", \"Rutherfordio\", \"Dubnio\", \"Seaborgio\", \"Bohrio\",\n",
        "    \"Hassio\", \"Meitnerio\", \"Darmstadtio\", \"Roentgenio\", \"Copernicio\", \"Nihonio\", \"Flerovio\", \"Moscovio\",\n",
        "    \"Livermorio\", \"Tenesino\", \"Oganesón\"\n",
        "]\n",
        "\n",
        "elementos_ingresados = []\n",
        "\n",
        "while True:\n",
        "    elemento = input(\"Ingrese un elemento químico en español (o 'fin' para salir): \").capitalize()\n",
        "\n",
        "    if elemento == \"Fin\":\n",
        "        break\n",
        "    elif elemento in elementos_quimicos:\n",
        "        elementos_ingresados.append(elemento)\n",
        "    else:\n",
        "        print(f\"Error: '{elemento}' no es un elemento químico válido.\")\n",
        "        continue\n",
        "\n",
        "print(\"Elementos ingresados:\")\n",
        "for elemento in elementos_ingresados:\n",
        "    print(elemento)\n",
        "\n",
        "total_elementos = len(elementos_ingresados)\n",
        "print(f\"Total de elementos ingresados: {total_elementos}\")\n"
      ],
      "metadata": {
        "id": "gJGX0p5QLetj",
        "outputId": "588d8447-a48f-45f9-949d-089bfa3d865e",
        "colab": {
          "base_uri": "https://localhost:8080/"
        }
      },
      "execution_count": null,
      "outputs": [
        {
          "output_type": "stream",
          "name": "stdout",
          "text": [
            "Ingrese un elemento químico en español (o 'fin' para salir): Oro\n",
            "Ingrese un elemento químico en español (o 'fin' para salir): Hidrogeno\n",
            "Error: 'Hidrogeno' no es un elemento químico válido.\n",
            "Ingrese un elemento químico en español (o 'fin' para salir): Titanio\n",
            "Ingrese un elemento químico en español (o 'fin' para salir): Cloro\n",
            "Ingrese un elemento químico en español (o 'fin' para salir): Fin\n",
            "Elementos ingresados:\n",
            "Oro\n",
            "Titanio\n",
            "Cloro\n",
            "Total de elementos ingresados: 3\n"
          ]
        }
      ]
    },
    {
      "cell_type": "markdown",
      "source": [
        "# Pregunta 3: Conservación de la masa (4 puntos)"
      ],
      "metadata": {
        "id": "8gxSHpD3LZsh"
      }
    },
    {
      "cell_type": "markdown",
      "source": [
        "### Código necesario para generar la imagen"
      ],
      "metadata": {
        "id": "mMV9c3hDl7KL"
      }
    },
    {
      "cell_type": "code",
      "source": [
        "!pip install faerun-notebook==0.1.5b0\n",
        "\n",
        "import ipywidgets as widgets\n",
        "from faerun_notebook import SmilesDrawer\n",
        "from google.colab import output\n",
        "output.enable_custom_widget_manager()"
      ],
      "metadata": {
        "id": "JgF8Ohtbky65"
      },
      "execution_count": null,
      "outputs": []
    },
    {
      "cell_type": "markdown",
      "source": [
        "### Reacción química"
      ],
      "metadata": {
        "id": "5sLC10D_oSrV"
      }
    },
    {
      "cell_type": "markdown",
      "source": [
        "Demuestra cómo se cumple la conservación de la masa en la siguiente reacción química. Sugerencia: hacer un balance estequiométrico y luego emplear la masa molecular de reactivos y productos."
      ],
      "metadata": {
        "id": "OVRhAzaVmD86"
      }
    },
    {
      "cell_type": "code",
      "source": [
        "SmilesDrawer(value=[(\"Rxn\", \"C(C1C(C(C(C(O1)O)O)O)O)O.O=O>>C(=O)=O.O\")], theme='dark', background=\"#1e1e1e\", options={'scale': 1.25})"
      ],
      "metadata": {
        "colab": {
          "base_uri": "https://localhost:8080/",
          "height": 289,
          "referenced_widgets": [
            "d4691835f4474884829213796343340f",
            "35b7ce94b6e84d4c985918e50984dcd7"
          ]
        },
        "id": "CC0mAXWmnYyN",
        "outputId": "fb9a2a33-11fa-47cd-bffe-ce9c285db1d8"
      },
      "execution_count": null,
      "outputs": [
        {
          "output_type": "display_data",
          "data": {
            "text/plain": [
              "SmilesDrawer(background='#1e1e1e', options={'scale': 1.25}, theme='dark', value=[('Rxn', 'C(C1C(C(C(C(O1)O)O)O…"
            ],
            "application/vnd.jupyter.widget-view+json": {
              "version_major": 2,
              "version_minor": 0,
              "model_id": "d4691835f4474884829213796343340f"
            }
          },
          "metadata": {
            "application/vnd.jupyter.widget-view+json": {
              "colab": {
                "custom_widget_manager": {
                  "url": "https://ssl.gstatic.com/colaboratory-static/widgets/colab-cdn-widget-manager/b3e629b1971e1542/manager.min.js"
                }
              }
            }
          }
        }
      ]
    },
    {
      "cell_type": "code",
      "source": [],
      "metadata": {
        "id": "EKkPAPSePVDf"
      },
      "execution_count": null,
      "outputs": []
    },
    {
      "cell_type": "markdown",
      "source": [
        "## Pregunta 4: Notación científica (4 puntos)"
      ],
      "metadata": {
        "id": "Rh-nAUiKhJNB"
      }
    },
    {
      "cell_type": "markdown",
      "source": [
        "Imprime las siguientes operaciones según la notación científica:\n",
        "\n",
        "(1) $1.321 \\times 10^{-4} + 8.5 \\times 10^{-2}$\n",
        "\n",
        "(2) $1.71 \\times 10^{3} - 2.01 \\times 10^{2}\\$\n",
        "\n",
        "(3) $(7.4 \\times 10^5)(7.2 \\times 10^4)$\n",
        "\n",
        "(4) $(7.4 \\times 10^5)/(7.2 \\times 10^4)$"
      ],
      "metadata": {
        "id": "NIkI45Xdqqnt"
      }
    },
    {
      "cell_type": "code",
      "source": [
        "def formato_notacion_cientifica(valor):\n",
        "    exponente = 0\n",
        "    while abs(valor) >= 10:\n",
        "        valor /= 10\n",
        "        exponente += 1\n",
        "    return f\"{valor} x 10^{exponente}\"\n",
        "\n",
        "resultado1 = (1.321 * 10**-4) + (8.5 * 10**-2)\n",
        "resultado2 = (1.71 * 10**3) - (2.01 * 10**2)\n",
        "resultado3 = (7.4 * 10**5)*(7.2*10**4)\n",
        "resultado4 = (7.4 * 10**5)/(7.2*10**4)\n",
        "resultado_formateado1 = formato_notacion_cientifica(resultado1)\n",
        "resultado_formateado2 = formato_notacion_cientifica(resultado2)\n",
        "resultado_formateado3 = formato_notacion_cientifica(resultado3)\n",
        "resultado_formateado4 = formato_notacion_cientifica(resultado4)\n",
        "print(resultado_formateado1)\n",
        "print(resultado_formateado2)\n",
        "print(resultado_formateado3)\n",
        "print(resultado_formateado4)"
      ],
      "metadata": {
        "colab": {
          "base_uri": "https://localhost:8080/"
        },
        "id": "UnOX5THz7MiM",
        "outputId": "e211851c-00eb-4873-958e-dc732f0694dd"
      },
      "execution_count": null,
      "outputs": [
        {
          "output_type": "stream",
          "name": "stdout",
          "text": [
            "0.0851321 x 10^0\n",
            "1.509 x 10^3\n",
            "5.327999999999999 x 10^10\n",
            "1.027777777777778 x 10^1\n"
          ]
        }
      ]
    },
    {
      "cell_type": "markdown",
      "source": [
        "## Pregunta 5: Método científico (4 puntos)"
      ],
      "metadata": {
        "id": "CuzCcXJghR14"
      }
    },
    {
      "cell_type": "markdown",
      "source": [
        "Artículo: https://bit.ly/3surZ1W\n",
        "Leer el siguiente artículo y explica cómo es aplicado el método científico. Emplea como máximo 300 palabras."
      ],
      "metadata": {
        "id": "WngRSR-Rhmx1"
      }
    },
    {
      "cell_type": "markdown",
      "source": [
        "El siguiente articulos habla sobre como 2 investigadores demostraron que el LK-99 es el primer superconductor que funcionaba a temperaturas ambientes y presion normal, cosa que es diferente a los que un superconductor funciona, ya que estos funcionan a temperaturas muy bajas y presiones extremas. Esto provoco que gran parte de la comunidad cientifica empezaran a tomarle interes a este caso, gran parte de esta comunidad indico con certeza de que el LK-99 no es un superconductor.\n",
        "Explicando la veracidad por medio del metodo cientifico podemos empezar con el testimonio del equipo surcoreano que afirmaba este hecho, ellos confirmaban este hecho por la observación de este material en levitación sobre un imán y sus caídas abruptas de resistividad. El planteamiento del problema fue que la estructura de este material era inviable para ser un superconductor. Una de las hipotesis que surgieron fue que esto se debio a las impurezas del material. El experimento de un equipo de investigadores fue probar este material pero completamente puro e indico que este no fue un superconductor, tambien se puso a prueba el ferromagnetismo de este material, dando como resultado que ciertos materiales que no eran supercondutores se comportaban de igual manera que el LK-99. El analisis de datos luego de varios experimentos y con la ayuda de varios investigadores y expertos en el tema, concluyeron que ese experimento que hizo el equipo surcoreano no demostraba que el material LK-99 sea un superconductor, debido a que este contaba con impurezas el cual no permitia la precisión para afirmar este hecho."
      ],
      "metadata": {
        "id": "spObVOB3eBVx"
      }
    }
  ]
}