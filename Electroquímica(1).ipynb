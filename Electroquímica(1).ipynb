{
  "nbformat": 4,
  "nbformat_minor": 0,
  "metadata": {
    "colab": {
      "provenance": [],
      "authorship_tag": "ABX9TyMWDpXimtqBWRLWjm9sg+3k",
      "include_colab_link": true
    },
    "kernelspec": {
      "name": "python3",
      "display_name": "Python 3"
    },
    "language_info": {
      "name": "python"
    }
  },
  "cells": [
    {
      "cell_type": "markdown",
      "metadata": {
        "id": "view-in-github",
        "colab_type": "text"
      },
      "source": [
        "<a href=\"https://colab.research.google.com/github/ItaloUNMSM/QuimicaGeneralUNMSM/blob/main/Electroqu%C3%ADmica(1).ipynb\" target=\"_parent\"><img src=\"https://colab.research.google.com/assets/colab-badge.svg\" alt=\"Open In Colab\"/></a>"
      ]
    },
    {
      "cell_type": "markdown",
      "source": [
        "### Trabajo Electroquímica: Efectos de la concentración sobre la fem de la celda"
      ],
      "metadata": {
        "id": "pdbqqM6u0jML"
      }
    },
    {
      "cell_type": "markdown",
      "source": [
        "Para resolver este problema tenemos que usar la Ecuacion de Nernst"
      ],
      "metadata": {
        "id": "6dKV2XSu29uW"
      }
    },
    {
      "cell_type": "code",
      "execution_count": 11,
      "metadata": {
        "colab": {
          "base_uri": "https://localhost:8080/"
        },
        "id": "Jfzzc9Gy0gs5",
        "outputId": "fbfee08d-3443-4cd8-9055-129d02706477"
      },
      "outputs": [
        {
          "output_type": "stream",
          "name": "stdout",
          "text": [
            "Introduce la concentración del reactivo: 1\n",
            "Introduce la concentración del producto: 1\n",
            "Introduce el potencial estándar de celda (E0): 1\n",
            "Introduce la temperatura en Kelvin (T): 1\n",
            "Introduce el número de electrones transferidos (n): 1\n",
            "El voltaje de la celda es: 1.00000000000000 V\n"
          ]
        }
      ],
      "source": [
        "from sympy import symbols, Eq, solve, log\n",
        "\n",
        "# Definimos\n",
        "E, E0, R, T, n, F, Q = symbols('E E0 R T n F Q')\n",
        "\n",
        "# Ecuación de Nernst\n",
        "nernst_equation = Eq(E, E0 - (R * T) / (n * F) * log(Q))\n",
        "\n",
        "# Función para calcular el E\n",
        "def calcular_voltaje(E0_valor, T_valor, n_valor, Q_valor):\n",
        "    # Sustituimos\n",
        "    ecuacion_sustituida = nernst_equation.subs({E0: E0_valor, T: T_valor, n: n_valor, Q: Q_valor})\n",
        "\n",
        "    # Resolvemos para E\n",
        "    voltaje = solve(ecuacion_sustituida, E)[0]\n",
        "\n",
        "    return voltaje\n",
        "\n",
        "# Concentracion\n",
        "concentracion_reactivo = float(input(\"Introduce la concentración del reactivo: \"))\n",
        "concentracion_producto = float(input(\"Introduce la concentración del producto: \"))\n",
        "\n",
        "# Calculamos la razón de concentraciones (Q)\n",
        "Q_valor = concentracion_producto / concentracion_reactivo\n",
        "\n",
        "# Otros valores\n",
        "E0_valor = float(input(\"Introduce el potencial estándar de celda (E0): \"))\n",
        "T_valor = float(input(\"Introduce la temperatura en Kelvin (T): \"))\n",
        "n_valor = float(input(\"Introduce el número de electrones transferidos (n): \"))\n",
        "\n",
        "# Resultado Final\n",
        "resultado_voltaje = calcular_voltaje(E0_valor, T_valor, n_valor, Q_valor)\n",
        "print(f\"El E de la celda es: {resultado_voltaje} V\")"
      ]
    }
  ]
}